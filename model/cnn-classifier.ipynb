{
 "cells": [
  {
   "cell_type": "code",
   "execution_count": 1,
   "metadata": {},
   "outputs": [],
   "source": [
    "# importing libraries\n",
    "import pandas as pd\n",
    "from sklearn.ensemble import MLPClassifier\n",
    "from sklearn.datasets import make_classification\n",
    "from sklearn.model_selection import train_test_split\n",
    "from sklearn.model_selection import GridSearchCV\n",
    "import numpy as np\n",
    "import pickle\n",
    "import random"
   ]
  },
  {
   "cell_type": "code",
   "execution_count": 2,
   "metadata": {},
   "outputs": [],
   "source": [
    "# prepared input dataframe\n",
    "df = pd.read_csv('pima_dataset.csv')\n",
    "df = df.drop(['Insulin'], axis=1)\n",
    "df = df.drop(['DiabetesPedigreeFunction'], axis=1)"
   ]
  },
  {
   "cell_type": "code",
   "execution_count": 3,
   "metadata": {},
   "outputs": [
    {
     "name": "stdout",
     "output_type": "stream",
     "text": [
      "X Shape: (768, 6)\n",
      "y Shape: (768,)\n"
     ]
    }
   ],
   "source": [
    "#prep X, y\n",
    "y = df['Outcome']\n",
    "X = df.drop(['Outcome'], axis=1)\n",
    "print('X Shape: ' + str(X.shape))\n",
    "print('y Shape: ' + str(y.shape))"
   ]
  },
  {
   "cell_type": "code",
   "execution_count": 4,
   "metadata": {},
   "outputs": [
    {
     "name": "stdout",
     "output_type": "stream",
     "text": [
      "X_train Shape: (614, 6)\n",
      "X_test Shape: (154, 6)\n",
      "y_train Shape: (614,)\n",
      "y_test Shape: (154,)\n"
     ]
    }
   ],
   "source": [
    "#train, test split\n",
    "X_train, X_test, y_train, y_test = train_test_split(X, y, train_size=0.8, random_state=random.seed(69))\n",
    "print('X_train Shape: ' + str(X_train.shape))\n",
    "print('X_test Shape: ' + str(X_test.shape))\n",
    "print('y_train Shape: ' + str(y_train.shape))\n",
    "print('y_test Shape: ' + str(y_test.shape))"
   ]
  },
  {
   "cell_type": "code",
   "execution_count": null,
   "metadata": {},
   "outputs": [],
   "source": []
  }
 ],
 "metadata": {
  "kernelspec": {
   "display_name": "Python 3",
   "language": "python",
   "name": "python3"
  },
  "language_info": {
   "codemirror_mode": {
    "name": "ipython",
    "version": 3
   },
   "file_extension": ".py",
   "mimetype": "text/x-python",
   "name": "python",
   "nbconvert_exporter": "python",
   "pygments_lexer": "ipython3",
   "version": "3.8.5"
  },
  "toc": {
   "base_numbering": 1,
   "nav_menu": {},
   "number_sections": false,
   "sideBar": false,
   "skip_h1_title": false,
   "title_cell": "Table of Contents",
   "title_sidebar": "Contents",
   "toc_cell": false,
   "toc_position": {},
   "toc_section_display": false,
   "toc_window_display": false
  }
 },
 "nbformat": 4,
 "nbformat_minor": 4
}
