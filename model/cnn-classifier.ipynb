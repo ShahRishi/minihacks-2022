{
 "cells": [
  {
   "cell_type": "code",
   "execution_count": 1,
   "metadata": {},
   "outputs": [],
   "source": [
    "# importing libraries\n",
    "import pandas as pd\n",
    "from sklearn.neural_network import MLPClassifier\n",
    "from sklearn.datasets import make_classification\n",
    "from sklearn.model_selection import train_test_split\n",
    "from sklearn.model_selection import GridSearchCV\n",
    "import numpy as np\n",
    "import pickle\n",
    "import random"
   ]
  },
  {
   "cell_type": "code",
   "execution_count": 2,
   "metadata": {},
   "outputs": [],
   "source": [
    "# prepared input dataframe\n",
    "df = pd.read_csv('pima_dataset.csv')\n",
    "df = df.drop(['Insulin'], axis=1)\n",
    "df = df.drop(['DiabetesPedigreeFunction'], axis=1)"
   ]
  },
  {
   "cell_type": "code",
   "execution_count": 3,
   "metadata": {},
   "outputs": [
    {
     "name": "stdout",
     "output_type": "stream",
     "text": [
      "X Shape: (768, 6)\n",
      "y Shape: (768,)\n"
     ]
    }
   ],
   "source": [
    "#prep X, y\n",
    "y = df['Outcome']\n",
    "X = df.drop(['Outcome'], axis=1)\n",
    "print('X Shape: ' + str(X.shape))\n",
    "print('y Shape: ' + str(y.shape))"
   ]
  },
  {
   "cell_type": "code",
   "execution_count": 4,
   "metadata": {},
   "outputs": [
    {
     "name": "stdout",
     "output_type": "stream",
     "text": [
      "X_train Shape: (614, 6)\n",
      "X_test Shape: (154, 6)\n",
      "y_train Shape: (614,)\n",
      "y_test Shape: (154,)\n"
     ]
    }
   ],
   "source": [
    "#train, test split\n",
    "X_train, X_test, y_train, y_test = train_test_split(X, y, train_size=0.8, random_state=random.seed(69))\n",
    "print('X_train Shape: ' + str(X_train.shape))\n",
    "print('X_test Shape: ' + str(X_test.shape))\n",
    "print('y_train Shape: ' + str(y_train.shape))\n",
    "print('y_test Shape: ' + str(y_test.shape))"
   ]
  },
  {
   "cell_type": "code",
   "execution_count": 5,
   "metadata": {},
   "outputs": [
    {
     "data": {
      "text/plain": [
       "0.5720681138289131"
      ]
     },
     "execution_count": 5,
     "metadata": {},
     "output_type": "execute_result"
    }
   ],
   "source": [
    "#init basic CNN classifier\n",
    "cnn_model = MLPClassifier(random_state=69)\n",
    "cnn_model.fit(X_train, y_train)\n",
    "\n",
    "#evaluate loss of vanilla classifier\n",
    "cnn_model.loss_"
   ]
  },
  {
   "cell_type": "code",
   "execution_count": 6,
   "metadata": {},
   "outputs": [],
   "source": [
    "#generating all combinations of parameters for GridSearch\n",
    "hidden_layer_sizes = [int(x) for x in np.linspace(start=80, stop=200, num=10)] # number trees in random forest\n",
    "activation = ['identity', 'logistic', 'tanh', 'relu']\n",
    "solver = ['lbfgs', 'sgd', 'adam']\n",
    "batch_size=[50, 100, 150, 200]\n",
    "learning_rate = ['constant', 'invscaling', 'adaptive']"
   ]
  },
  {
   "cell_type": "code",
   "execution_count": 7,
   "metadata": {},
   "outputs": [
    {
     "name": "stdout",
     "output_type": "stream",
     "text": [
      "{'hidden_layer_sizes': [80, 93, 106, 120, 133, 146, 160, 173, 186, 200], 'activation': ['identity', 'logistic', 'tanh', 'relu'], 'solver': ['lbfgs', 'sgd', 'adam'], 'batch_size': [50, 100, 150, 200], 'learning_rate': ['constant', 'invscaling', 'adaptive']}\n"
     ]
    }
   ],
   "source": [
    "# combinations --> hashtable\n",
    "param_grid = {'hidden_layer_sizes': hidden_layer_sizes,\n",
    "               'activation': activation,\n",
    "               'solver': solver,\n",
    "               'batch_size': batch_size,\n",
    "               'learning_rate': learning_rate,\n",
    "             }\n",
    "print(param_grid)"
   ]
  },
  {
   "cell_type": "code",
   "execution_count": 8,
   "metadata": {},
   "outputs": [
    {
     "name": "stdout",
     "output_type": "stream",
     "text": [
      "Fitting 10 folds for each of 1440 candidates, totalling 14400 fits\n"
     ]
    },
    {
     "name": "stderr",
     "output_type": "stream",
     "text": [
      "[Parallel(n_jobs=4)]: Using backend LokyBackend with 4 concurrent workers.\n",
      "[Parallel(n_jobs=4)]: Done  33 tasks      | elapsed:    6.5s\n",
      "[Parallel(n_jobs=4)]: Done 154 tasks      | elapsed:   24.8s\n",
      "[Parallel(n_jobs=4)]: Done 357 tasks      | elapsed:   56.3s\n",
      "[Parallel(n_jobs=4)]: Done 640 tasks      | elapsed:  1.7min\n",
      "[Parallel(n_jobs=4)]: Done 1005 tasks      | elapsed:  2.7min\n",
      "[Parallel(n_jobs=4)]: Done 1450 tasks      | elapsed:  3.6min\n",
      "[Parallel(n_jobs=4)]: Done 1977 tasks      | elapsed:  4.9min\n",
      "[Parallel(n_jobs=4)]: Done 2584 tasks      | elapsed:  5.9min\n",
      "[Parallel(n_jobs=4)]: Done 3273 tasks      | elapsed:  7.0min\n",
      "[Parallel(n_jobs=4)]: Done 4042 tasks      | elapsed: 10.4min\n",
      "[Parallel(n_jobs=4)]: Done 4893 tasks      | elapsed: 16.1min\n",
      "[Parallel(n_jobs=4)]: Done 5824 tasks      | elapsed: 21.8min\n",
      "[Parallel(n_jobs=4)]: Done 6837 tasks      | elapsed: 28.4min\n",
      "[Parallel(n_jobs=4)]: Done 7930 tasks      | elapsed: 36.4min\n",
      "[Parallel(n_jobs=4)]: Done 9105 tasks      | elapsed: 45.5min\n",
      "[Parallel(n_jobs=4)]: Done 10360 tasks      | elapsed: 53.8min\n",
      "[Parallel(n_jobs=4)]: Done 11697 tasks      | elapsed: 62.8min\n",
      "[Parallel(n_jobs=4)]: Done 13114 tasks      | elapsed: 69.8min\n",
      "[Parallel(n_jobs=4)]: Done 14400 out of 14400 | elapsed: 76.5min finished\n"
     ]
    },
    {
     "data": {
      "text/plain": [
       "GridSearchCV(cv=10, estimator=MLPClassifier(), n_jobs=4,\n",
       "             param_grid={'activation': ['identity', 'logistic', 'tanh', 'relu'],\n",
       "                         'batch_size': [50, 100, 150, 200],\n",
       "                         'hidden_layer_sizes': [80, 93, 106, 120, 133, 146, 160,\n",
       "                                                173, 186, 200],\n",
       "                         'learning_rate': ['constant', 'invscaling',\n",
       "                                           'adaptive'],\n",
       "                         'solver': ['lbfgs', 'sgd', 'adam']},\n",
       "             verbose=2)"
      ]
     },
     "execution_count": 8,
     "metadata": {},
     "output_type": "execute_result"
    }
   ],
   "source": [
    "# generating and fitting GridSearchCV\n",
    "cnn_model = MLPClassifier()\n",
    "cnn_grid = GridSearchCV(estimator = cnn_model, param_grid = param_grid, cv = 10, verbose=2, n_jobs = 4)\n",
    "cnn_grid.fit(X_train, y_train)"
   ]
  },
  {
   "cell_type": "code",
   "execution_count": 9,
   "metadata": {},
   "outputs": [
    {
     "data": {
      "text/plain": [
       "0.47025305310259974"
      ]
     },
     "execution_count": 9,
     "metadata": {},
     "output_type": "execute_result"
    }
   ],
   "source": [
    "# evaluating best model, fitting model\n",
    "regressor = cnn_grid.best_estimator_\n",
    "regressor.fit(X_train, y_train)\n",
    "regressor.loss_"
   ]
  },
  {
   "cell_type": "code",
   "execution_count": 11,
   "metadata": {},
   "outputs": [],
   "source": [
    "# caching model\n",
    "trained_model = 'trained_cnn_model.sav'\n",
    "pickle.dump(regressor, open(trained_model, 'wb'))"
   ]
  },
  {
   "cell_type": "code",
   "execution_count": 12,
   "metadata": {},
   "outputs": [
    {
     "data": {
      "text/plain": [
       "0.7402597402597403"
      ]
     },
     "execution_count": 12,
     "metadata": {},
     "output_type": "execute_result"
    }
   ],
   "source": [
    "regressor.score(X_test, y_test)"
   ]
  },
  {
   "cell_type": "code",
   "execution_count": null,
   "metadata": {},
   "outputs": [],
   "source": []
  }
 ],
 "metadata": {
  "kernelspec": {
   "display_name": "Python 3",
   "language": "python",
   "name": "python3"
  },
  "language_info": {
   "codemirror_mode": {
    "name": "ipython",
    "version": 3
   },
   "file_extension": ".py",
   "mimetype": "text/x-python",
   "name": "python",
   "nbconvert_exporter": "python",
   "pygments_lexer": "ipython3",
   "version": "3.8.5"
  },
  "toc": {
   "base_numbering": 1,
   "nav_menu": {},
   "number_sections": false,
   "sideBar": false,
   "skip_h1_title": false,
   "title_cell": "Table of Contents",
   "title_sidebar": "Contents",
   "toc_cell": false,
   "toc_position": {},
   "toc_section_display": false,
   "toc_window_display": false
  }
 },
 "nbformat": 4,
 "nbformat_minor": 4
}
